{
 "cells": [
  {
   "cell_type": "code",
   "execution_count": 4,
   "id": "6067cd2f",
   "metadata": {},
   "outputs": [],
   "source": [
    "def my_reduce(fn, iterable, initializer=None):\n",
    "    it = iter(iterable)\n",
    "    if initializer is None:\n",
    "        value = next(it)\n",
    "    else:\n",
    "        value = initializer\n",
    "    for element in it:\n",
    "        value = fn(value, element)\n",
    "    return value"
   ]
  },
  {
   "cell_type": "code",
   "execution_count": 5,
   "id": "cf5f3f11",
   "metadata": {},
   "outputs": [],
   "source": [
    "def sum_(a, b): \n",
    "  return a + b"
   ]
  },
  {
   "cell_type": "code",
   "execution_count": 6,
   "id": "8eb314e0",
   "metadata": {},
   "outputs": [
    {
     "data": {
      "text/plain": [
       "10"
      ]
     },
     "execution_count": 6,
     "metadata": {},
     "output_type": "execute_result"
    }
   ],
   "source": [
    "my_reduce(sum_,  [i for i in range(5)])"
   ]
  },
  {
   "cell_type": "code",
   "execution_count": 7,
   "id": "971763f9",
   "metadata": {},
   "outputs": [],
   "source": [
    "def fun(variable):\n",
    "    letters = ['a', 'e', 'i', 'o', 'u']\n",
    "    if (variable in letters):\n",
    "        return True\n",
    "    else:\n",
    "        return False"
   ]
  },
  {
   "cell_type": "code",
   "execution_count": 8,
   "id": "8447df80",
   "metadata": {},
   "outputs": [],
   "source": [
    "def my_filter(fn, iterable):\n",
    "    it = iter(iterable)\n",
    "    value = next(it)\n",
    "    s=[]\n",
    "    for element in it:\n",
    "        value = fn(element)\n",
    "        if value==True:\n",
    "            s.append(element)\n",
    "    return s"
   ]
  },
  {
   "cell_type": "code",
   "execution_count": 9,
   "id": "7d6b875f",
   "metadata": {},
   "outputs": [
    {
     "name": "stdout",
     "output_type": "stream",
     "text": [
      "The filtered letters are:\n",
      "e\n",
      "e\n"
     ]
    }
   ],
   "source": [
    "sequence = ['g', 'e', 'e', 'j', 'k', 's', 'p', 'r']\n",
    "  \n",
    "filtered = my_filter(fun, sequence)\n",
    "  \n",
    "print('The filtered letters are:')\n",
    "for s in filtered:\n",
    "    print(s)"
   ]
  },
  {
   "cell_type": "code",
   "execution_count": 20,
   "id": "4f3f2780",
   "metadata": {},
   "outputs": [
    {
     "name": "stdout",
     "output_type": "stream",
     "text": [
      "['x', 'xx', 'xxx', 'y', 'yy', 'yyy', 'z', 'zz', 'zzz']\n"
     ]
    }
   ],
   "source": [
    "in1=['x','y','z']\n",
    "result1=[item*num for item in in1 for num in range(1,4)]\n",
    "print(str(result1))"
   ]
  },
  {
   "cell_type": "code",
   "execution_count": 13,
   "id": "dfb153bc",
   "metadata": {},
   "outputs": [
    {
     "data": {
      "text/plain": [
       "str"
      ]
     },
     "execution_count": 13,
     "metadata": {},
     "output_type": "execute_result"
    }
   ],
   "source": [
    "type(in1)"
   ]
  },
  {
   "cell_type": "code",
   "execution_count": 21,
   "id": "c18ab1a1",
   "metadata": {},
   "outputs": [
    {
     "name": "stdout",
     "output_type": "stream",
     "text": [
      "['x', 'y', 'z', 'xx', 'yy', 'zz', 'xxx', 'yyy', 'zzz']\n"
     ]
    }
   ],
   "source": [
    "in2=['x','y','z']\n",
    "result2=[item*num for num in range(1,4) for item in in1 ]\n",
    "print(str(result2))"
   ]
  },
  {
   "cell_type": "code",
   "execution_count": 34,
   "id": "4319e0ce",
   "metadata": {},
   "outputs": [
    {
     "name": "stdout",
     "output_type": "stream",
     "text": [
      "[[2], [3], [4], [3], [4], [5], [4], [5], [6]]\n"
     ]
    }
   ],
   "source": [
    "in3 = [2,3,4]\n",
    "result3 = [[item+num] for item in in3 for num in range(0,3)]\n",
    "print(str(result3))"
   ]
  },
  {
   "cell_type": "code",
   "execution_count": 30,
   "id": "c2043f0f",
   "metadata": {},
   "outputs": [
    {
     "name": "stdout",
     "output_type": "stream",
     "text": [
      "[[2, 3, 4, 5], [3, 4, 5, 6], [4, 5, 6, 7], [5, 6, 7, 8]]\n"
     ]
    }
   ],
   "source": [
    "in3 = [2,3,4,5]\n",
    "result3 = [[item+num for item in in3] for num in range(0,4)]\n",
    "print(str(result3))"
   ]
  },
  {
   "cell_type": "code",
   "execution_count": 35,
   "id": "f8db5b38",
   "metadata": {},
   "outputs": [
    {
     "name": "stdout",
     "output_type": "stream",
     "text": [
      "[(1, 1), (2, 1), (3, 1), (1, 2), (2, 2), (3, 2), (1, 3), (2, 3), (3, 3)]\n"
     ]
    }
   ],
   "source": [
    "in4=(1,2,3)\n",
    "result4=[(b,a) for a in in4 for b in in4]\n",
    "print(str(result4))"
   ]
  },
  {
   "cell_type": "code",
   "execution_count": null,
   "id": "58ee1050",
   "metadata": {},
   "outputs": [],
   "source": []
  }
 ],
 "metadata": {
  "kernelspec": {
   "display_name": "Python 3",
   "language": "python",
   "name": "python3"
  },
  "language_info": {
   "codemirror_mode": {
    "name": "ipython",
    "version": 3
   },
   "file_extension": ".py",
   "mimetype": "text/x-python",
   "name": "python",
   "nbconvert_exporter": "python",
   "pygments_lexer": "ipython3",
   "version": "3.8.8"
  }
 },
 "nbformat": 4,
 "nbformat_minor": 5
}
