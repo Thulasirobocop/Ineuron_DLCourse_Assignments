{
 "cells": [
  {
   "cell_type": "code",
   "execution_count": 1,
   "id": "6b43fc96",
   "metadata": {},
   "outputs": [],
   "source": [
    "import numpy as np"
   ]
  },
  {
   "cell_type": "code",
   "execution_count": 14,
   "id": "20f8c2c9",
   "metadata": {},
   "outputs": [
    {
     "name": "stdout",
     "output_type": "stream",
     "text": [
      "The input array is: [1 2 3 4 5] \n",
      "\n",
      "Number of columns in output matrix should be: 5 \n",
      "\n",
      "Vander matrix of the input array in decreasing order of powers:\n",
      "\n",
      " [[  1   1   1   1   1]\n",
      " [ 16   8   4   2   1]\n",
      " [ 81  27   9   3   1]\n",
      " [256  64  16   4   1]\n",
      " [625 125  25   5   1]] \n",
      "\n"
     ]
    }
   ],
   "source": [
    "def gen_vander_matrix(ipvector, n):\n",
    "    op_matx = np.array([x**(n-1-i) for x in ipvector for i in range(0,n)]).reshape(ipvector.size,n)    \n",
    "    return op_matx\n",
    "\n",
    "inputvector = np.array([1,2,3,4,5])\n",
    "no_col_opmat = 5\n",
    "op_matx_dec_order = gen_vander_matrix(inputvector,no_col_opmat,)\n",
    "\n",
    "\n",
    "print(\"The input array is:\",inputvector,\"\\n\")\n",
    "print(\"Number of columns in output matrix should be:\",no_col_opmat,\"\\n\")\n",
    "print(\"Vander matrix of the input array in decreasing order of powers:\\n\\n\",op_matx_dec_order,\"\\n\")"
   ]
  },
  {
   "cell_type": "code",
   "execution_count": 25,
   "id": "65efc8ac",
   "metadata": {},
   "outputs": [
    {
     "name": "stdout",
     "output_type": "stream",
     "text": [
      "[[  1   1   1   1   1]\n",
      " [ 16   8   4   2   1]\n",
      " [ 81  27   9   3   1]\n",
      " [256  64  16   4   1]\n",
      " [625 125  25   5   1]]\n"
     ]
    }
   ],
   "source": [
    "###Assignment 12.1####\n",
    "\n",
    "def vander_matrix(vector_in,n):\n",
    "    van=np.array([x**(n-1-i) for x in vector_in for i in range(0,n)])\n",
    "    van=van.reshape(vector_in.size,n)\n",
    "    return van\n",
    "\n",
    "vector_in=np.array([1,2,3,4,5])\n",
    "n=5\n",
    "resultant_vander_matrix=vander_matrix(vector_in,n)\n",
    "print(resultant_vander_matrix)"
   ]
  },
  {
   "cell_type": "code",
   "execution_count": 51,
   "id": "f5ab1de1",
   "metadata": {},
   "outputs": [
    {
     "name": "stdout",
     "output_type": "stream",
     "text": [
      "y1 = 5.0\n",
      "y2 = 4.67\n",
      "y3 = 5.67\n",
      "y4 = 6.67\n",
      "y5 = 9.67\n",
      "y6 = 28.67\n",
      "y7 = 49.33\n",
      "y8 = 72.67\n",
      "y9 = 84.0\n",
      "y10 = 93.33\n",
      "y11 = 116.33\n"
     ]
    }
   ],
   "source": [
    "###Assignment 12.2####\n",
    "\n",
    "def moving_avg(input_array,w):\n",
    "    for j in range(0,(len(input_array)-(w-1))):\n",
    "        y=0\n",
    "        temp_array=input_array[j:]\n",
    "        for i in range(0,w):\n",
    "            y=temp_array[i]+y\n",
    "        print(f'y{j+1} = {round(y/w,2)}')\n",
    "    return None\n",
    "\n",
    "input_array=[3, 5, 7, 2, 8, 10, 11, 65, 72, 81, 99, 100, 150]\n",
    "w=3\n",
    "moving_avg(input_array,w)"
   ]
  },
  {
   "cell_type": "code",
   "execution_count": null,
   "id": "965d91a0",
   "metadata": {},
   "outputs": [],
   "source": []
  }
 ],
 "metadata": {
  "kernelspec": {
   "display_name": "Python 3",
   "language": "python",
   "name": "python3"
  },
  "language_info": {
   "codemirror_mode": {
    "name": "ipython",
    "version": 3
   },
   "file_extension": ".py",
   "mimetype": "text/x-python",
   "name": "python",
   "nbconvert_exporter": "python",
   "pygments_lexer": "ipython3",
   "version": "3.8.8"
  }
 },
 "nbformat": 4,
 "nbformat_minor": 5
}
