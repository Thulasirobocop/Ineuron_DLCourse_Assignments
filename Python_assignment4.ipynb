{
 "cells": [
  {
   "cell_type": "code",
   "execution_count": 5,
   "id": "e6df5cb7",
   "metadata": {},
   "outputs": [
    {
     "name": "stdout",
     "output_type": "stream",
     "text": [
      "a = 3\n",
      "b = 4\n",
      "c = 5\n",
      "area : 6.0\n"
     ]
    }
   ],
   "source": [
    "###Assignment 1.1 A ###\n",
    "\n",
    "class poly:\n",
    "    def __init__(self,a,b,c):\n",
    "        self.a = float(a)\n",
    "        self.b = float(b)\n",
    "        self.c = float(c)\n",
    "\n",
    "class triangle(poly):\n",
    "    def __init__(self,a,b,c):\n",
    "        super().__init__(a,b,c)\n",
    "\n",
    "    def get_area(self):\n",
    "        s = (a + b + c) / 2\n",
    "        return (s*(s-a)*(s-b)*(s-c)) ** 0.5 \n",
    "    \n",
    "\n",
    "a= float(input(\"a = \"))\n",
    "b= float(input(\"b = \"))\n",
    "c= float(input(\"c = \"))\n",
    "t = triangle(a,b,c)\n",
    "print(f\"area : {t.get_area()}\")"
   ]
  },
  {
   "cell_type": "code",
   "execution_count": 7,
   "id": "54196cdc",
   "metadata": {},
   "outputs": [
    {
     "name": "stdout",
     "output_type": "stream",
     "text": [
      "number of elements in list = 5\n",
      "n = 4\n",
      "element[0]This\n",
      "element[1]is\n",
      "element[2]a\n",
      "element[3]golden\n",
      "element[4]rule\n",
      "The input list is rule\n",
      "['This', 'is', 'a', 'rule']\n"
     ]
    }
   ],
   "source": [
    "###Assignment 1.1 B ###\n",
    "\n",
    "def long_eliminate(word,n):\n",
    "    if len(word) <=n:\n",
    "        return word\n",
    "    elif len(word) >n:\n",
    "        return None\n",
    "\n",
    "words=[]\n",
    "final=[]\n",
    "max=int(input(\"number of elements in list = \"))\n",
    "n=int(input(\"n = \"))\n",
    "\n",
    "for i in range(0,max):\n",
    "    words.append(str(input(f'element[{i}]')))\n",
    "\n",
    "print(f'The input list is {word}' )\n",
    "for i in range(0,max):\n",
    "    word=long_eliminate(words[i],n)\n",
    "    if word != None:\n",
    "        final.append(word)\n",
    "print(final)"
   ]
  },
  {
   "cell_type": "code",
   "execution_count": 8,
   "id": "7e1a8f19",
   "metadata": {},
   "outputs": [
    {
     "name": "stdout",
     "output_type": "stream",
     "text": [
      "number of elements in list = 5\n",
      "element[0]This\n",
      "element[1]is\n",
      "element[2]a\n",
      "element[3]golden\n",
      "element[4]rule\n",
      "The input list is ['This', 'is', 'a', 'golden', 'rule']\n",
      "This is the mapped list [4, 2, 1, 6, 4]\n"
     ]
    }
   ],
   "source": [
    "###Assignment 2.1 A ###\n",
    "\n",
    "def mapping(word):\n",
    "    length=len(word)\n",
    "    return length\n",
    "\n",
    "\n",
    "max=int(input(\"number of elements in list = \"))\n",
    "\n",
    "l=[]\n",
    "f=[]\n",
    "for i in range(0,max):\n",
    "    l.append(str(input(f'element[{i}]')))\n",
    "\n",
    "print(f'The input list is {l}' )\n",
    "for i in range(0,max):\n",
    "    w=mapping(l[i])\n",
    "    f.append(w)\n",
    "print(f'This is the mapped list {f}')"
   ]
  },
  {
   "cell_type": "code",
   "execution_count": 19,
   "id": "a242b0f0",
   "metadata": {},
   "outputs": [
    {
     "name": "stdout",
     "output_type": "stream",
     "text": [
      "Enter a characterE\n",
      "The input character \"E\" is a Vowel\n"
     ]
    }
   ],
   "source": [
    "###Assignment 2.1 B ###\n",
    "\n",
    "def vowels(character):\n",
    "    if character in ('a','e','i','o','u','A','E','I','O','U'):\n",
    "        return True\n",
    "c=str(input(\"Enter a character\"))\n",
    "if len(c) ==1:\n",
    "    out=vowels(c)\n",
    "    if out==True:\n",
    "        print(f'The input character \"{c}\" is a Vowel')\n",
    "    else:\n",
    "        print(f'The input character \"{c}\" is not a Vowel')\n",
    "elif len(c)>1:\n",
    "    print(\"Please enter only one character\")"
   ]
  },
  {
   "cell_type": "code",
   "execution_count": null,
   "id": "94cef158",
   "metadata": {},
   "outputs": [],
   "source": []
  }
 ],
 "metadata": {
  "kernelspec": {
   "display_name": "Python 3",
   "language": "python",
   "name": "python3"
  },
  "language_info": {
   "codemirror_mode": {
    "name": "ipython",
    "version": 3
   },
   "file_extension": ".py",
   "mimetype": "text/x-python",
   "name": "python",
   "nbconvert_exporter": "python",
   "pygments_lexer": "ipython3",
   "version": "3.8.8"
  }
 },
 "nbformat": 4,
 "nbformat_minor": 5
}
